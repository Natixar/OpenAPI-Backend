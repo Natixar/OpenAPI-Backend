{
 "cells": [
  {
   "cell_type": "markdown",
   "id": "876540ee-af8a-4c3b-84ca-851b9db4fe50",
   "metadata": {},
   "source": [
    "## Compute API key\n",
    "A client API key is the base64 encoded form of a JSON object with the following structure, concatenated using a dot with the SHA256 signature of the same object in compact JSON form:\n",
    "```\n",
    "{\"name\":\"Agro Novae Industrie, SAS\",\"id\":1}\n",
    "```\n",
    "The JSON object can be more complete and in general follow the schema :\n",
    "```\n",
    "components-openapi.json#/components/schemas/Client\n",
    "```\n",
    "\n",
    "The API key is currently passed in a header but is URL safe, and could be passed as a query parameter instead."
   ]
  },
  {
   "cell_type": "code",
   "execution_count": 1,
   "id": "dfd3a92e-d198-43cc-874e-807e7aa5b1b9",
   "metadata": {},
   "outputs": [],
   "source": [
    "client_name = \"Agro Novae Industrie, SAS\"\n",
    "client_id = 1\n",
    "expires_in = dict(days=30)"
   ]
  },
  {
   "cell_type": "code",
   "execution_count": 2,
   "id": "28f2c2e1-34ac-44b5-b0b2-d6f060bc8905",
   "metadata": {},
   "outputs": [],
   "source": [
    "# Global settings\n",
    "\n",
    "# Filename for the salts\n",
    "filename = '../core/core-implementation/salts.ndjson'\n",
    "\n"
   ]
  },
  {
   "cell_type": "markdown",
   "id": "fb653c6d-1bef-4764-9c48-915aa1a50c60",
   "metadata": {},
   "source": [
    "### Update the secret salt\n",
    "The salts have a limited validity, 9 weeks, which is longer by design than the 30 days for individual API keys. \n",
    "\n",
    "The purpose of having a secret, that is included in the signature but not available to the owner to the API key, is to make it difficult to forge API keys. The signature algorithm is easy to guess and without a secret, a rigue user could just forge the client data and directly compute the signature."
   ]
  },
  {
   "cell_type": "code",
   "execution_count": 6,
   "id": "2d599458-06d3-4a81-bb67-1259cfa425ae",
   "metadata": {},
   "outputs": [
    {
     "name": "stdout",
     "output_type": "stream",
     "text": [
      "salt: '{\"tool\":\"co2track\",\"exp\":1722636000,\"random\":\"b5740a10-244a-4869-bda2-8f8793355103\"}'\n",
      "Removed 0 expired salts\n",
      "Duplicate salt. Not added.\n"
     ]
    }
   ],
   "source": [
    "# Create and manage a secret salt. It must be persisted to validate received tokens\n",
    "import json\n",
    "from datetime import datetime, timedelta\n",
    "\n",
    "# Compute a secret server salt that changes too, but only once a year\n",
    "# The purpose of the salt is to make it impossible for a rogue client to compute the correct signature\n",
    "# after having falsified the client data. The random part makes it hard to guess (the other fields are\n",
    "# trivial to guess if the structure of the salt leaks out).\n",
    "current_timestamp = int(datetime.now().timestamp())\n",
    "\n",
    "# The expiration date of a salt is intended to purge the database.\n",
    "# A salt made now expires approximately at the end of the next month (validity: at last 1 month)\n",
    "current_datetime = datetime.now()\n",
    "expire_datetime = datetime(current_datetime.year,current_datetime.month,1) + timedelta(weeks=9) \n",
    "salt = json.dumps({\n",
    "    \"tool\":\"co2track\",\n",
    "    \"exp\": int(expire_datetime.timestamp()),\n",
    "    \"random\": \"b5740a10-244a-4869-bda2-8f8793355103\"\n",
    "}, separators=(',', ':'))\n",
    "print(f\"salt: '{salt}'\")\n",
    "\n",
    "\n",
    "try:\n",
    "    # Read existing salts to avoid duplicates\n",
    "    existing_salts = set()\n",
    "    with open(filename, 'r') as file:\n",
    "        for line in file:\n",
    "            content = line.strip()\n",
    "            if content:\n",
    "                existing_salts.add(content)\n",
    "\n",
    "    # Check expiration date\n",
    "    initial_count = len(existing_salts)\n",
    "    active_salts = [salt for salt in existing_salts if json.loads(salt)['exp'] > current_timestamp]\n",
    "    final_count = len(active_salts)\n",
    "    print(f\"Removed {initial_count - final_count} expired salts\")\n",
    "    \n",
    "    with open(filename, 'w') as file:\n",
    "        # Write back still valid salts\n",
    "        for old_salt in active_salts:\n",
    "            file.write(old_salt + '\\n')\n",
    "\n",
    "        # Write the salt if it's not a duplicate\n",
    "        if salt not in existing_salts:\n",
    "            file.write(salt + '\\n')\n",
    "            print(\"Salt added to file.\")\n",
    "        else:\n",
    "            print(\"Duplicate salt. Not added.\")\n",
    "\n",
    "except FileNotFoundError:\n",
    "    # If file does not exist, create it and add the salt\n",
    "    with open(filename, 'w') as file:\n",
    "        file.write(salt + '\\n')\n",
    "    print(\"File created and salt added.\")\n"
   ]
  },
  {
   "cell_type": "markdown",
   "id": "8db828e9-0ebc-4479-8677-5d47ec9b82ad",
   "metadata": {},
   "source": [
    "### Compute the Client API key"
   ]
  },
  {
   "cell_type": "code",
   "execution_count": 4,
   "id": "ade3e732-ab07-4982-b3b6-4df9fcbaa9a7",
   "metadata": {},
   "outputs": [
    {
     "name": "stdout",
     "output_type": "stream",
     "text": [
      "Client API key is 'eyJuYW1lIjoiQWdybyBOb3ZhZSBJbmR1c3RyaWUsIFNBUyIsImlkIjoxLCJleHAiOjE3MjA4NzA4NDR9.ZjhjNzIwMTMxMjMwMGJiNGM0MjQzNmE5MTU0OTBkOTg4MTRhN2QzODA3YzY3ZTg0YmNmYjBjMWEwYTJlOTdhYw'\n",
      "You must regenerate the server using 'docker-compose up -d --build' to install the new salt.\n"
     ]
    }
   ],
   "source": [
    "import json\n",
    "import hashlib\n",
    "import base64\n",
    "from datetime import datetime, timedelta\n",
    "\n",
    "# Assuming client_name and client_id are defined elsewhere in your script\n",
    "client = dict(name=client_name, id=client_id)\n",
    "\n",
    "# Add an expiration timestamp\n",
    "expiration_date = datetime.now() + timedelta(**expires_in)\n",
    "client.update(exp=int(expiration_date.timestamp()))\n",
    "              \n",
    "# Correct function to convert dictionary to JSON string\n",
    "json_string = json.dumps(client, separators=(',', ':'))\n",
    "\n",
    "# Calculate SHA256 hash of the JSON string including a secret server salt\n",
    "assert salt, \"Run the previous cells to define 'salt'\"\n",
    "signed_data = f\"{json_string}\\n{salt}\"\n",
    "# print(f\"Signed data : \\n{signed_data}\\n\")\n",
    "hash_object = hashlib.sha256(signed_data.encode())\n",
    "hex_dig = hash_object.hexdigest()\n",
    "\n",
    "# print(\"JSON String:\", json_string)\n",
    "# print(\"SHA256 Hash:\", hex_dig)\n",
    "\n",
    "# Encode JSON string and hash in base64\n",
    "encoded_json = base64.urlsafe_b64encode(json_string.encode()).decode('utf-8')\n",
    "encoded_hash = base64.urlsafe_b64encode(hex_dig.encode()).decode('utf-8')\n",
    "\n",
    "# Join them with a dot, similar to JWT format\n",
    "jwt_like_token = f\"{encoded_json.rstrip('=')}.{encoded_hash.rstrip('=')}\"\n",
    "print(f\"Client API key is '{jwt_like_token}'\")\n",
    "print(\"You must regenerate the server using 'docker-compose up -d --build' to install the new salt.\")"
   ]
  },
  {
   "cell_type": "markdown",
   "id": "210273eb-aa98-47aa-b499-05da05a29de1",
   "metadata": {},
   "source": [
    "## Validate and decode an API key\n",
    "Ensure the key is in variable ``jwt_like_token``.\n",
    "The first step is to split the two parts and decode the base64 encoding.\n",
    "\n",
    "Next the validator loops over non-expired salts, tries each one in turn and "
   ]
  },
  {
   "cell_type": "code",
   "execution_count": 5,
   "id": "c68550c0-a9ca-4b4a-af24-83b8a0da91f6",
   "metadata": {},
   "outputs": [
    {
     "name": "stdout",
     "output_type": "stream",
     "text": [
      "client: {\"name\":\"Agro Novae Industrie, SAS\",\"id\":1,\"exp\":1720870844}\n",
      "Signature: f8c7201312300bb4c42436a915490d98814a7d3807c67e84bcfb0c1a0a2e97ac\n",
      "Valid API key for client Agro Novae Industrie, SAS and tool co2track.\n",
      "API key valid until 2024-07-13 13:40:44\n"
     ]
    }
   ],
   "source": [
    "import base64\n",
    "import hashlib\n",
    "import json\n",
    "from datetime import datetime\n",
    "\n",
    "parts = jwt_like_token.split('.')\n",
    "\n",
    "# Decode each part from Base64\n",
    "decoded_parts = [base64.urlsafe_b64decode((part + '==').encode()).decode('utf-8') for part in parts]\n",
    "client = decoded_parts[0]\n",
    "signature = decoded_parts[1]\n",
    "\n",
    "print(\"client:\", client)\n",
    "print(\"Signature:\", signature)\n",
    "\n",
    "try:\n",
    "    with open(filename, 'r') as file:\n",
    "        for line in file:\n",
    "            # Compute the SHA256 signature\n",
    "            signed_data = f\"{client}\\n{line.strip()}\"\n",
    "            # print(f\"Signed data attempt:\\n{signed_data}\\n\")\n",
    "            signature_check = hashlib.sha256(signed_data.encode()).hexdigest()\n",
    "            \n",
    "            if signature_check == signature:\n",
    "                # If a matching signature is found\n",
    "                client_data = json.loads(client)\n",
    "                # Check if the client data is not expired\n",
    "                if client_data['exp'] > int(datetime.now().timestamp()):\n",
    "                    tool = json.loads(line.strip())['tool']\n",
    "                    print(\"Valid API key for client\", client_data['name'], \"and tool\", tool + \".\")\n",
    "                    print(\"API key valid until\", datetime.fromtimestamp(client_data['exp']).strftime('%Y-%m-%d %H:%M:%S'))\n",
    "                else:\n",
    "                    print(\"Client API key is expired.\")\n",
    "                break\n",
    "        else:\n",
    "            # Normal loop end: not found\n",
    "            print(\"No matching salt found, or the token is invalid.\")\n",
    "except FileNotFoundError:\n",
    "    print(\"Salts file does not exist, token cannot be validated.\")"
   ]
  }
 ],
 "metadata": {
  "kernelspec": {
   "display_name": "Python 3 (ipykernel)",
   "language": "python",
   "name": "python3"
  },
  "language_info": {
   "codemirror_mode": {
    "name": "ipython",
    "version": 3
   },
   "file_extension": ".py",
   "mimetype": "text/x-python",
   "name": "python",
   "nbconvert_exporter": "python",
   "pygments_lexer": "ipython3",
   "version": "3.11.0"
  }
 },
 "nbformat": 4,
 "nbformat_minor": 5
}
